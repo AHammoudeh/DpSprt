{
  "nbformat": 4,
  "nbformat_minor": 0,
  "metadata": {
    "colab": {
      "name": "KTS final.ipynb",
      "provenance": [],
      "collapsed_sections": []
    },
    "kernelspec": {
      "name": "python3",
      "display_name": "Python 3"
    }
  },
  "cells": [
    {
      "cell_type": "code",
      "metadata": {
        "id": "80n5qdhpP2yp"
      },
      "source": [
        "from google.colab import drive\n",
        "drive.mount('/content/drive')"
      ],
      "execution_count": null,
      "outputs": []
    },
    {
      "cell_type": "code",
      "metadata": {
        "colab": {
          "base_uri": "https://localhost:8080/"
        },
        "id": "TZ8TpVTvFTQ0",
        "outputId": "5812d0ae-69cb-488a-f964-f8680a39f390"
      },
      "source": [
        "%cd /content/drive/MyDrive/DL/KTS/KTS2"
      ],
      "execution_count": 1,
      "outputs": [
        {
          "output_type": "stream",
          "text": [
            "/content/drive/MyDrive/DL/KTS/KTS2\n"
          ],
          "name": "stdout"
        }
      ]
    },
    {
      "cell_type": "code",
      "metadata": {
        "id": "BaUDIufiFf9L"
      },
      "source": [
        "import numpy as np\n",
        "# Thanks to https://github.com/TatsuyaShirakawa/KTS for the following packages\n",
        "from cpd_nonlin import cpd_nonlin\n",
        "from cpd_auto import cpd_auto"
      ],
      "execution_count": 3,
      "outputs": []
    },
    {
      "cell_type": "code",
      "metadata": {
        "id": "lyvHN3GTGAaE"
      },
      "source": [
        "from matplotlib import pyplot as plt\n",
        "plt.ioff()\n",
        "\n",
        "def detect_boundaries(X, Epected_number_of_events, plat = False):\n",
        "  n= X.shape[0]\n",
        "  d = X.shape[0]\n",
        "  K = np.dot(X, X.T)\n",
        "  cps, scores = cpd_auto(K, 2*Epected_number_of_events, 1)\n",
        "\n",
        "  if plat:\n",
        "    plt.plot(X)\n",
        "    mi = np.min(X)\n",
        "    ma = np.max(X)\n",
        "    for cp in cps:\n",
        "      plt.plot([cp, cp], [mi, ma], 'r')\n",
        "    plt.show()\n",
        "\n",
        "  return cps, scores"
      ],
      "execution_count": 5,
      "outputs": []
    },
    {
      "cell_type": "code",
      "metadata": {
        "id": "3577gYy3GC3Z"
      },
      "source": [
        "def find_output(GT_start_hard,GT_end_hard,GT_start_soft, GT_end_soft, cps, FPS=2, Game_start=0):\n",
        "  y = ((cps/FPS)+Game_start)/60 \n",
        "  boundaries = y//1 + (y%1)*0.6\n",
        "  \n",
        "  Number_of_events = GT_start_hard.shape[0]\n",
        "  mi = -1\n",
        "  ma = 1\n",
        "  for cp in boundaries:\n",
        "    plt.plot([cp, cp], [mi, ma], 'r')\n",
        "  for i in range(Number_of_events):\n",
        "    plt.plot([GT_start_hard[i], GT_end_hard[i]], [mi, ma], 'b')\n",
        "    plt.plot([GT_start_soft[i], GT_end_soft[i]], [0.5*(mi+ma), 0.5*(mi+ma)], 'g')\n",
        "    plt.plot([GT_end_soft[i], GT_end_soft[i]], [0.1*(mi), 0.1*(ma)], 'y')\n",
        "  plt.show()\n",
        "\n",
        "  return boundaries"
      ],
      "execution_count": 10,
      "outputs": []
    },
    {
      "cell_type": "code",
      "metadata": {
        "id": "BNqSExwwGEuL"
      },
      "source": [
        "import numpy as np\n",
        "\n",
        "GT_start_hard = np.array([11.06, 11.18,11.51,12.01,12.45])\n",
        "GT_end_hard = np.array([11.06,11.2,11.53,12.03, 12.45])\n",
        "GT_start_soft = np.array([10.51, 11.18,11.49,11.51,12.40])\n",
        "GT_end_soft = np.array([11.08,11.2,11.56,12.05, 13.14])"
      ],
      "execution_count": 7,
      "outputs": []
    },
    {
      "cell_type": "markdown",
      "metadata": {
        "id": "uJUcCKSIJAo4"
      },
      "source": [
        "C3D"
      ]
    },
    {
      "cell_type": "code",
      "metadata": {
        "colab": {
          "base_uri": "https://localhost:8080/",
          "height": 367
        },
        "id": "1UjPBubvGKp5",
        "outputId": "61b6b328-afec-4ef2-a932-60111bb683e5"
      },
      "source": [
        "Vid = np.load('/content/drive/MyDrive/DL/features/1_C3D.npy')\n",
        "Vid = Vid.reshape((5399,4096))\n",
        "\n",
        "Game_start = 11*60 + 6\n",
        "Time_First_frame = Game_start \n",
        "Epected_number_of_events = 5\n",
        "FPS =2\n",
        "\n",
        "Event_frame_start = (Time_First_frame - Game_start)*FPS #=0\n",
        "Event_frame_end = (12*60 + 45  - Game_start)*FPS\n",
        "X = Vid[Event_frame_start:Event_frame_end, :]\n",
        "\n",
        "cps, scores = detect_boundaries(X, Epected_number_of_events)\n",
        "\n",
        "find_output(GT_start_hard,GT_end_hard,GT_start_soft, GT_end_soft, cps, FPS, Game_start)"
      ],
      "execution_count": 21,
      "outputs": [
        {
          "output_type": "stream",
          "text": [
            "Precomputing scatters...\n",
            "Inferring best change points...\n",
            "Precomputing scatters...\n",
            "Inferring best change points...\n"
          ],
          "name": "stdout"
        },
        {
          "output_type": "display_data",
          "data": {
            "image/png": "[encoded data removed]",
            "text/plain": [
              "<Figure size 432x288 with 1 Axes>"
            ]
          },
          "metadata": {
            "tags": [],
            "needs_background": "light"
          }
        },
        {
          "output_type": "execute_result",
          "data": {
            "text/plain": [
              "array([11.165, 11.24 , 11.285, 11.395, 11.495, 11.53 , 11.585, 12.055,\n",
              "       12.13 , 12.285])"
            ]
          },
          "metadata": {
            "tags": []
          },
          "execution_count": 21
        }
      ]
    },
    {
      "cell_type": "markdown",
      "metadata": {
        "id": "tIgGZiITJFoY"
      },
      "source": [
        "C3D_PCA512"
      ]
    },
    {
      "cell_type": "code",
      "metadata": {
        "colab": {
          "base_uri": "https://localhost:8080/",
          "height": 367
        },
        "id": "VtMvwHx6HRI3",
        "outputId": "9d21d9e1-6b1a-48a9-cc6a-b8aec12f18c5"
      },
      "source": [
        "Vid = np.load('/content/drive/MyDrive/DL/features/1_C3D_PCA512.npy')\n",
        "\n",
        "Game_start = 11*60 + 6\n",
        "Time_First_frame = Game_start \n",
        "Epected_number_of_events = 5\n",
        "FPS =2\n",
        "\n",
        "Event_frame_start = (Time_First_frame - Game_start)*FPS #=0\n",
        "Event_frame_end = (12*60 + 45  - Game_start)*FPS\n",
        "X = Vid[Event_frame_start:Event_frame_end, :]\n",
        "\n",
        "cps, scores = detect_boundaries(X, Epected_number_of_events)\n",
        "\n",
        "find_output(GT_start_hard,GT_end_hard,GT_start_soft, GT_end_soft, cps, FPS, Game_start)"
      ],
      "execution_count": 22,
      "outputs": [
        {
          "output_type": "stream",
          "text": [
            "Precomputing scatters...\n",
            "Inferring best change points...\n",
            "Precomputing scatters...\n",
            "Inferring best change points...\n"
          ],
          "name": "stdout"
        },
        {
          "output_type": "display_data",
          "data": {
            "image/png": "[encoded data removed]",
            "text/plain": [
              "<Figure size 432x288 with 1 Axes>"
            ]
          },
          "metadata": {
            "tags": [],
            "needs_background": "light"
          }
        },
        {
          "output_type": "execute_result",
          "data": {
            "text/plain": [
              "array([11.165, 11.24 , 11.285, 11.395, 11.495, 11.53 , 11.585, 12.055,\n",
              "       12.13 , 12.285])"
            ]
          },
          "metadata": {
            "tags": []
          },
          "execution_count": 22
        }
      ]
    },
    {
      "cell_type": "markdown",
      "metadata": {
        "id": "LzTILlmnKQov"
      },
      "source": [
        "Conclusion :\n",
        "* C3D and C3D_PCA yield almost identical results\n",
        "\n",
        "\n"
      ]
    },
    {
      "cell_type": "code",
      "metadata": {
        "colab": {
          "base_uri": "https://localhost:8080/",
          "height": 367
        },
        "id": "Dox1N7g1I4TP",
        "outputId": "52b4eea6-fd9a-4958-a5d5-d8c6718dcdb6"
      },
      "source": [
        "Vid = np.load('/content/drive/MyDrive/DL/features/1_I3D_PCA512.npy')\n",
        "\n",
        "Game_start = 11*60 + 6\n",
        "Time_First_frame = Game_start \n",
        "Epected_number_of_events = 5\n",
        "FPS =2\n",
        "\n",
        "Event_frame_start = (Time_First_frame - Game_start)*FPS #=0\n",
        "Event_frame_end = (12*60 + 45  - Game_start)*FPS\n",
        "X = Vid[Event_frame_start:Event_frame_end, :]\n",
        "\n",
        "cps, scores = detect_boundaries(X, Epected_number_of_events)\n",
        "\n",
        "find_output(GT_start_hard,GT_end_hard,GT_start_soft, GT_end_soft, cps, FPS, Game_start)"
      ],
      "execution_count": 23,
      "outputs": [
        {
          "output_type": "stream",
          "text": [
            "Precomputing scatters...\n",
            "Inferring best change points...\n",
            "Precomputing scatters...\n",
            "Inferring best change points...\n"
          ],
          "name": "stdout"
        },
        {
          "output_type": "display_data",
          "data": {
            "image/png": "[encoded data removed]",
            "text/plain": [
              "<Figure size 432x288 with 1 Axes>"
            ]
          },
          "metadata": {
            "tags": [],
            "needs_background": "light"
          }
        },
        {
          "output_type": "execute_result",
          "data": {
            "text/plain": [
              "array([11.16 , 11.23 , 11.285, 11.34 , 11.525, 11.575, 12.095, 12.265,\n",
              "       12.395, 12.435])"
            ]
          },
          "metadata": {
            "tags": []
          },
          "execution_count": 23
        }
      ]
    },
    {
      "cell_type": "markdown",
      "metadata": {
        "id": "vuPMhW1tK0L4"
      },
      "source": [
        "* I3D is worse than C3D_PCA512"
      ]
    },
    {
      "cell_type": "markdown",
      "metadata": {
        "id": "ctoAsoZ9Jp0e"
      },
      "source": [
        "Resnet_PCA512"
      ]
    },
    {
      "cell_type": "code",
      "metadata": {
        "colab": {
          "base_uri": "https://localhost:8080/",
          "height": 367
        },
        "id": "TGTSN6GVJmNA",
        "outputId": "f1dfdc2c-145d-4513-d50c-ba5b6fd396ad"
      },
      "source": [
        "Vid = np.load('/content/drive/MyDrive/DL/features/1_ResNET_PCA512.npy')\n",
        "\n",
        "Game_start = 11*60 + 6\n",
        "Time_First_frame = Game_start \n",
        "Epected_number_of_events = 5\n",
        "FPS =2\n",
        "\n",
        "Event_frame_start = (Time_First_frame - Game_start)*FPS #=0\n",
        "Event_frame_end = (12*60 + 45  - Game_start)*FPS\n",
        "X = Vid[Event_frame_start:Event_frame_end, :]\n",
        "\n",
        "cps, scores = detect_boundaries(X, Epected_number_of_events)\n",
        "\n",
        "find_output(GT_start_hard,GT_end_hard,GT_start_soft, GT_end_soft, cps, FPS, Game_start)"
      ],
      "execution_count": 24,
      "outputs": [
        {
          "output_type": "stream",
          "text": [
            "Precomputing scatters...\n",
            "Inferring best change points...\n",
            "Precomputing scatters...\n",
            "Inferring best change points...\n"
          ],
          "name": "stdout"
        },
        {
          "output_type": "display_data",
          "data": {
            "image/png": "[encoded data removed]",
            "text/plain": [
              "<Figure size 432x288 with 1 Axes>"
            ]
          },
          "metadata": {
            "tags": [],
            "needs_background": "light"
          }
        },
        {
          "output_type": "execute_result",
          "data": {
            "text/plain": [
              "array([11.17 , 11.245, 11.29 , 11.34 , 11.53 , 11.59 , 12.05 , 12.15 ,\n",
              "       12.285, 12.405])"
            ]
          },
          "metadata": {
            "tags": []
          },
          "execution_count": 24
        }
      ]
    },
    {
      "cell_type": "markdown",
      "metadata": {
        "id": "yW7Je01ALS0q"
      },
      "source": [
        "* Resnet is the best (last event was detected better than C3D)"
      ]
    },
    {
      "cell_type": "markdown",
      "metadata": {
        "id": "GmM8dFOlLhGf"
      },
      "source": [
        "Next step:\n",
        "\n",
        "Use features extracted from an action spotting model"
      ]
    }
  ]
}
